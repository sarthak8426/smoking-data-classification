{
 "cells": [
  {
   "cell_type": "markdown",
   "id": "35ad2901",
   "metadata": {},
   "source": [
    "# **Smoking Detection Project by Sarthak Pathak**  🧑🏻‍💻🖥️"
   ]
  },
  {
   "cell_type": "markdown",
   "id": "67a79194",
   "metadata": {},
   "source": [
    "### About Project 🗄️\n",
    "\n",
    "##### This project is developed to fulfil the criteria to get an internship certificate as a part of Summer Training Program offered by E&ICT Academy, IIT Kanpur for a duration of 6 weeks.\n",
    "##### The dataset and aim of project both are given by the instructor on the last day of internship program.\n",
    "##### I am thankful to my instructor and IIT-Kanpur for enhancing me in the evolving field of today's technological domain."
   ]
  },
  {
   "cell_type": "code",
   "execution_count": null,
   "id": "208483cb",
   "metadata": {},
   "outputs": [],
   "source": []
  },
  {
   "cell_type": "code",
   "execution_count": 1,
   "id": "bd55670c",
   "metadata": {},
   "outputs": [],
   "source": [
    "import pandas as pd\n",
    "import numpy as np\n",
    "import matplotlib.pyplot as plt\n",
    "from sklearn.model_selection import train_test_split\n",
    "import seaborn as sns\n",
    "import warnings\n",
    "warnings.filterwarnings(\"ignore\")"
   ]
  },
  {
   "cell_type": "code",
   "execution_count": 2,
   "id": "6ad0726d",
   "metadata": {},
   "outputs": [],
   "source": [
    "df= pd.read_csv(\"smoking.csv\")"
   ]
  },
  {
   "cell_type": "code",
   "execution_count": 3,
   "id": "f77ca0d6",
   "metadata": {},
   "outputs": [
    {
     "name": "stdout",
     "output_type": "stream",
     "text": [
      "<class 'pandas.core.frame.DataFrame'>\n",
      "RangeIndex: 55692 entries, 0 to 55691\n",
      "Data columns (total 27 columns):\n",
      " #   Column               Non-Null Count  Dtype  \n",
      "---  ------               --------------  -----  \n",
      " 0   ID                   55692 non-null  int64  \n",
      " 1   gender               55692 non-null  object \n",
      " 2   age                  55692 non-null  int64  \n",
      " 3   height(cm)           55692 non-null  int64  \n",
      " 4   weight(kg)           55692 non-null  int64  \n",
      " 5   waist(cm)            55692 non-null  float64\n",
      " 6   eyesight(left)       55692 non-null  float64\n",
      " 7   eyesight(right)      55692 non-null  float64\n",
      " 8   hearing(left)        55692 non-null  float64\n",
      " 9   hearing(right)       55692 non-null  float64\n",
      " 10  systolic             55692 non-null  float64\n",
      " 11  relaxation           55692 non-null  float64\n",
      " 12  fasting blood sugar  55692 non-null  float64\n",
      " 13  Cholesterol          55692 non-null  float64\n",
      " 14  triglyceride         55692 non-null  float64\n",
      " 15  HDL                  55692 non-null  float64\n",
      " 16  LDL                  55692 non-null  float64\n",
      " 17  hemoglobin           55692 non-null  float64\n",
      " 18  Urine protein        55692 non-null  float64\n",
      " 19  serum creatinine     55692 non-null  float64\n",
      " 20  AST                  55692 non-null  float64\n",
      " 21  ALT                  55692 non-null  float64\n",
      " 22  Gtp                  55692 non-null  float64\n",
      " 23  oral                 55692 non-null  object \n",
      " 24  dental caries        55692 non-null  int64  \n",
      " 25  tartar               55692 non-null  object \n",
      " 26  smoking              55692 non-null  int64  \n",
      "dtypes: float64(18), int64(6), object(3)\n",
      "memory usage: 11.5+ MB\n"
     ]
    }
   ],
   "source": [
    "df.info()"
   ]
  },
  {
   "cell_type": "code",
   "execution_count": 4,
   "id": "3bb39492",
   "metadata": {},
   "outputs": [],
   "source": [
    "# removing ID because it is a index columns that won't help to identify the duplicates \n",
    "df.drop(columns=\"ID\",inplace=True)"
   ]
  },
  {
   "cell_type": "code",
   "execution_count": 5,
   "id": "5a4e3985",
   "metadata": {},
   "outputs": [
    {
     "data": {
      "text/plain": [
       "11140"
      ]
     },
     "execution_count": 5,
     "metadata": {},
     "output_type": "execute_result"
    }
   ],
   "source": [
    "# total number of duplicated values \n",
    "df.duplicated().sum()"
   ]
  },
  {
   "cell_type": "code",
   "execution_count": 6,
   "id": "bee1e185",
   "metadata": {},
   "outputs": [],
   "source": [
    "# deleting the duplicates values \n",
    "df.drop_duplicates(inplace=True)"
   ]
  },
  {
   "cell_type": "code",
   "execution_count": 7,
   "id": "d40a1c34",
   "metadata": {},
   "outputs": [
    {
     "data": {
      "text/plain": [
       "gender                   2\n",
       "age                     14\n",
       "height(cm)              13\n",
       "weight(kg)              22\n",
       "waist(cm)              566\n",
       "eyesight(left)          19\n",
       "eyesight(right)         17\n",
       "hearing(left)            2\n",
       "hearing(right)           2\n",
       "systolic               130\n",
       "relaxation              95\n",
       "fasting blood sugar    276\n",
       "Cholesterol            286\n",
       "triglyceride           390\n",
       "HDL                    126\n",
       "LDL                    289\n",
       "hemoglobin             145\n",
       "Urine protein            6\n",
       "serum creatinine        38\n",
       "AST                    219\n",
       "ALT                    245\n",
       "Gtp                    488\n",
       "oral                     1\n",
       "dental caries            2\n",
       "tartar                   2\n",
       "smoking                  2\n",
       "dtype: int64"
      ]
     },
     "execution_count": 7,
     "metadata": {},
     "output_type": "execute_result"
    }
   ],
   "source": [
    "# total number of unique values in each columns\n",
    "df.nunique()"
   ]
  },
  {
   "cell_type": "code",
   "execution_count": 8,
   "id": "5443e3e4",
   "metadata": {},
   "outputs": [
    {
     "data": {
      "text/plain": [
       "smoking\n",
       "0    45.0\n",
       "1    40.0\n",
       "Name: age, dtype: float64"
      ]
     },
     "execution_count": 8,
     "metadata": {},
     "output_type": "execute_result"
    }
   ],
   "source": [
    "# median age of people who smoke and don't smoke \n",
    "df.groupby(\"smoking\")[\"age\"].median()"
   ]
  },
  {
   "cell_type": "code",
   "execution_count": 9,
   "id": "dc47f8fb",
   "metadata": {},
   "outputs": [
    {
     "data": {
      "text/plain": [
       "M    28349\n",
       "F    16203\n",
       "Name: gender, dtype: int64"
      ]
     },
     "execution_count": 9,
     "metadata": {},
     "output_type": "execute_result"
    }
   ],
   "source": [
    "df[\"gender\"].value_counts()"
   ]
  },
  {
   "cell_type": "code",
   "execution_count": 10,
   "id": "3e923c1c",
   "metadata": {},
   "outputs": [
    {
     "data": {
      "image/png": "[encoded data removed]",
      "text/plain": [
       "<Figure size 720x288 with 1 Axes>"
      ]
     },
     "metadata": {
      "needs_background": "light"
     },
     "output_type": "display_data"
    }
   ],
   "source": [
    "plt.figure(figsize=(10,4))\n",
    "x = df[\"gender\"].value_counts().index\n",
    "y = df[\"gender\"].value_counts().values\n",
    "plt.bar(x,y)\n",
    "plt.bar_label(plt.bar(x,y))\n",
    "plt.show()"
   ]
  },
  {
   "cell_type": "code",
   "execution_count": 11,
   "id": "bc242a6d",
   "metadata": {},
   "outputs": [
    {
     "data": {
      "text/plain": [
       "gender               2\n",
       "age                 14\n",
       "height(cm)          13\n",
       "weight(kg)          22\n",
       "waist(cm)          566\n",
       "eyesight(left)      19\n",
       "eyesight(right)     17\n",
       "hearing(left)        2\n",
       "hearing(right)       2\n",
       "systolic           130\n",
       "dtype: int64"
      ]
     },
     "execution_count": 11,
     "metadata": {},
     "output_type": "execute_result"
    }
   ],
   "source": [
    "df.nunique().head(10)"
   ]
  },
  {
   "cell_type": "code",
   "execution_count": 12,
   "id": "2dbf3698",
   "metadata": {},
   "outputs": [
    {
     "data": {
      "text/plain": [
       "1.2    10003\n",
       "1.0     9988\n",
       "1.5     6086\n",
       "0.8     4324\n",
       "0.9     4210\n",
       "0.7     3479\n",
       "0.6     1904\n",
       "0.5     1726\n",
       "0.4     1040\n",
       "0.3      685\n",
       "0.2      415\n",
       "0.1      297\n",
       "2.0      297\n",
       "9.9       75\n",
       "1.6       15\n",
       "1.3        6\n",
       "1.1        2\n",
       "Name: eyesight(right), dtype: int64"
      ]
     },
     "execution_count": 12,
     "metadata": {},
     "output_type": "execute_result"
    }
   ],
   "source": [
    "df[\"eyesight(right)\"].value_counts()"
   ]
  },
  {
   "cell_type": "code",
   "execution_count": 13,
   "id": "5e249ba3",
   "metadata": {},
   "outputs": [
    {
     "data": {
      "text/plain": [
       "1.2    10166\n",
       "1.0     9734\n",
       "1.5     6240\n",
       "0.8     4229\n",
       "0.9     4140\n",
       "0.7     3569\n",
       "0.6     1990\n",
       "0.5     1683\n",
       "0.4      973\n",
       "0.3      716\n",
       "0.2      386\n",
       "2.0      325\n",
       "0.1      297\n",
       "9.9       74\n",
       "1.6       16\n",
       "1.3        8\n",
       "1.1        3\n",
       "1.9        2\n",
       "1.8        1\n",
       "Name: eyesight(left), dtype: int64"
      ]
     },
     "execution_count": 13,
     "metadata": {},
     "output_type": "execute_result"
    }
   ],
   "source": [
    "df[\"eyesight(left)\"].value_counts()"
   ]
  },
  {
   "cell_type": "code",
   "execution_count": 14,
   "id": "cb66f876",
   "metadata": {},
   "outputs": [
    {
     "data": {
      "text/plain": [
       "1.0    43392\n",
       "2.0     1160\n",
       "Name: hearing(right), dtype: int64"
      ]
     },
     "execution_count": 14,
     "metadata": {},
     "output_type": "execute_result"
    }
   ],
   "source": [
    "df[\"hearing(right)\"].value_counts()"
   ]
  },
  {
   "cell_type": "code",
   "execution_count": 15,
   "id": "4e563be3",
   "metadata": {},
   "outputs": [
    {
     "data": {
      "text/plain": [
       "1.0    43411\n",
       "2.0     1141\n",
       "Name: hearing(left), dtype: int64"
      ]
     },
     "execution_count": 15,
     "metadata": {},
     "output_type": "execute_result"
    }
   ],
   "source": [
    "df[\"hearing(left)\"].value_counts()"
   ]
  },
  {
   "cell_type": "code",
   "execution_count": 16,
   "id": "903277fe",
   "metadata": {},
   "outputs": [],
   "source": [
    "# This the how we create all boxplot with a single code\n",
    "def outliers(x):\n",
    "    y=x.select_dtypes(include=[int,float])\n",
    "    for i in y:\n",
    "        sns.boxplot(x=df[i])\n",
    "        plt.title(i)\n",
    "        plt.show()    "
   ]
  },
  {
   "cell_type": "code",
   "execution_count": 17,
   "id": "d5ddf411",
   "metadata": {
    "scrolled": false
   },
   "outputs": [
    {
     "data": {
      "image/png": "[encoded data removed]",
      "text/plain": [
       "<Figure size 432x288 with 1 Axes>"
      ]
     },
     "metadata": {
      "needs_background": "light"
     },
     "output_type": "display_data"
    },
    {
     "data": {
      "image/png": "[encoded data removed]",
      "text/plain": [
       "<Figure size 432x288 with 1 Axes>"
      ]
     },
     "metadata": {
      "needs_background": "light"
     },
     "output_type": "display_data"
    },
    {
     "data": {
      "image/png": "[encoded data removed]",
      "text/plain": [
       "<Figure size 432x288 with 1 Axes>"
      ]
     },
     "metadata": {
      "needs_background": "light"
     },
     "output_type": "display_data"
    },
    {
     "data": {
      "image/png": "[encoded data removed]",
      "text/plain": [
       "<Figure size 432x288 with 1 Axes>"
      ]
     },
     "metadata": {
      "needs_background": "light"
     },
     "output_type": "display_data"
    },
    {
     "data": {
      "image/png": "[encoded data removed]",
      "text/plain": [
       "<Figure size 432x288 with 1 Axes>"
      ]
     },
     "metadata": {
      "needs_background": "light"
     },
     "output_type": "display_data"
    },
    {
     "data": {
      "image/png": "[encoded data removed]",
      "text/plain": [
       "<Figure size 432x288 with 1 Axes>"
      ]
     },
     "metadata": {
      "needs_background": "light"
     },
     "output_type": "display_data"
    },
    {
     "data": {
      "image/png": "[encoded data removed]",
      "text/plain": [
       "<Figure size 432x288 with 1 Axes>"
      ]
     },
     "metadata": {
      "needs_background": "light"
     },
     "output_type": "display_data"
    },
    {
     "data": {
      "image/png": "[encoded data removed]",
      "text/plain": [
       "<Figure size 432x288 with 1 Axes>"
      ]
     },
     "metadata": {
      "needs_background": "light"
     },
     "output_type": "display_data"
    },
    {
     "data": {
      "image/png": "[encoded data removed]",
      "text/plain": [
       "<Figure size 432x288 with 1 Axes>"
      ]
     },
     "metadata": {
      "needs_background": "light"
     },
     "output_type": "display_data"
    },
    {
     "data": {
      "image/png": "[encoded data removed]",
      "text/plain": [
       "<Figure size 432x288 with 1 Axes>"
      ]
     },
     "metadata": {
      "needs_background": "light"
     },
     "output_type": "display_data"
    },
    {
     "data": {
      "image/png": "[encoded data removed]",
      "text/plain": [
       "<Figure size 432x288 with 1 Axes>"
      ]
     },
     "metadata": {
      "needs_background": "light"
     },
     "output_type": "display_data"
    },
    {
     "data": {
      "image/png": "[encoded data removed]",
      "text/plain": [
       "<Figure size 432x288 with 1 Axes>"
      ]
     },
     "metadata": {
      "needs_background": "light"
     },
     "output_type": "display_data"
    },
    {
     "data": {
      "image/png": "[encoded data removed]",
      "text/plain": [
       "<Figure size 432x288 with 1 Axes>"
      ]
     },
     "metadata": {
      "needs_background": "light"
     },
     "output_type": "display_data"
    },
    {
     "data": {
      "image/png": "[encoded data removed]",
      "text/plain": [
       "<Figure size 432x288 with 1 Axes>"
      ]
     },
     "metadata": {
      "needs_background": "light"
     },
     "output_type": "display_data"
    },
    {
     "data": {
      "image/png": "[encoded data removed]",
      "text/plain": [
       "<Figure size 432x288 with 1 Axes>"
      ]
     },
     "metadata": {
      "needs_background": "light"
     },
     "output_type": "display_data"
    },
    {
     "data": {
      "image/png": "[encoded data removed]",
      "text/plain": [
       "<Figure size 432x288 with 1 Axes>"
      ]
     },
     "metadata": {
      "needs_background": "light"
     },
     "output_type": "display_data"
    },
    {
     "data": {
      "image/png": "[encoded data removed]",
      "text/plain": [
       "<Figure size 432x288 with 1 Axes>"
      ]
     },
     "metadata": {
      "needs_background": "light"
     },
     "output_type": "display_data"
    },
    {
     "data": {
      "image/png": "[encoded data removed]",
      "text/plain": [
       "<Figure size 432x288 with 1 Axes>"
      ]
     },
     "metadata": {
      "needs_background": "light"
     },
     "output_type": "display_data"
    },
    {
     "data": {
      "image/png": "[encoded data removed]",
      "text/plain": [
       "<Figure size 432x288 with 1 Axes>"
      ]
     },
     "metadata": {
      "needs_background": "light"
     },
     "output_type": "display_data"
    },
    {
     "data": {
      "image/png": "[encoded data removed]",
      "text/plain": [
       "<Figure size 432x288 with 1 Axes>"
      ]
     },
     "metadata": {
      "needs_background": "light"
     },
     "output_type": "display_data"
    },
    {
     "data": {
      "image/png": "[encoded data removed]",
      "text/plain": [
       "<Figure size 432x288 with 1 Axes>"
      ]
     },
     "metadata": {
      "needs_background": "light"
     },
     "output_type": "display_data"
    },
    {
     "data": {
      "image/png": "[encoded data removed]",
      "text/plain": [
       "<Figure size 432x288 with 1 Axes>"
      ]
     },
     "metadata": {
      "needs_background": "light"
     },
     "output_type": "display_data"
    },
    {
     "data": {
      "image/png": "[encoded data removed]",
      "text/plain": [
       "<Figure size 432x288 with 1 Axes>"
      ]
     },
     "metadata": {
      "needs_background": "light"
     },
     "output_type": "display_data"
    }
   ],
   "source": [
    "outliers(df)"
   ]
  },
  {
   "cell_type": "code",
   "execution_count": 18,
   "id": "3f16aa61",
   "metadata": {},
   "outputs": [],
   "source": [
    "# This Function is use to find lower and upper fence using IQR method\n",
    "def IQR_method(x):\n",
    "    Q1=x.quantile(q=.25)\n",
    "    Q3=x.quantile(q=.75)\n",
    "    IQR=Q3-Q1\n",
    "    LF = Q1-(1.5*IQR)\n",
    "    UF= Q3+(1.5*IQR)\n",
    "    print(\"lower_fence\",LF)\n",
    "    print(\"upper_fence\",UF)"
   ]
  },
  {
   "cell_type": "code",
   "execution_count": 19,
   "id": "b4d442c8",
   "metadata": {},
   "outputs": [
    {
     "data": {
      "text/plain": [
       "Index(['age', 'height(cm)', 'weight(kg)', 'waist(cm)', 'eyesight(left)',\n",
       "       'eyesight(right)', 'hearing(left)', 'hearing(right)', 'systolic',\n",
       "       'relaxation', 'fasting blood sugar', 'Cholesterol', 'triglyceride',\n",
       "       'HDL', 'LDL', 'hemoglobin', 'Urine protein', 'serum creatinine', 'AST',\n",
       "       'ALT', 'Gtp', 'dental caries', 'smoking'],\n",
       "      dtype='object')"
      ]
     },
     "execution_count": 19,
     "metadata": {},
     "output_type": "execute_result"
    }
   ],
   "source": [
    "df.select_dtypes([int,float]).columns"
   ]
  },
  {
   "cell_type": "code",
   "execution_count": 20,
   "id": "1338ef80",
   "metadata": {},
   "outputs": [],
   "source": [
    "df[\"Gtp\"] = np.where(df[\"Gtp\"]>84.5,84.5,df[\"Gtp\"])"
   ]
  },
  {
   "cell_type": "code",
   "execution_count": 21,
   "id": "7a872103",
   "metadata": {},
   "outputs": [],
   "source": [
    "df[\"age\"] = np.where(df[\"age\"]>77.5,77,df[\"age\"])\n",
    "df[\"height(cm)\"] = np.where(df[\"height(cm)\"]<145,145,df[\"height(cm)\"])\n",
    "df[\"height(cm)\"] = np.where(df[\"height(cm)\"]>185,185,df[\"height(cm)\"])\n",
    "df[\"weight(kg)\"] = np.where(df[\"weight(kg)\"]>105,105,df[\"weight(kg)\"])"
   ]
  },
  {
   "cell_type": "code",
   "execution_count": 22,
   "id": "2c8bd38f",
   "metadata": {},
   "outputs": [],
   "source": [
    "df[\"eyesight(left)\"] = np.where(df[\"eyesight(left)\"]>1.7999999999999998,1.7999999999999998,df[\"eyesight(left)\"])\n",
    "df[\"eyesight(left)\"] = np.where(df[\"eyesight(left)\"]<.20000000000000018,.20000000000000018,df[\"eyesight(left)\"])\n",
    "df[\"eyesight(right)\"] = np.where(df[\"eyesight(right)\"]>1.7999999999999998,1.7999999999999998,df[\"eyesight(right)\"])\n",
    "df[\"eyesight(right)\"] = np.where(df[\"eyesight(right)\"]<.20000000000000018,.20000000000000018,df[\"eyesight(right)\"])\n",
    "df[\"systolic\"] = np.where(df[\"systolic\"]>157,157,df[\"systolic\"])\n",
    "df[\"systolic\"] = np.where(df[\"systolic\"]<85,85,df[\"systolic\"])"
   ]
  },
  {
   "cell_type": "code",
   "execution_count": 23,
   "id": "0d64ca67",
   "metadata": {},
   "outputs": [],
   "source": [
    "df[\"relaxation\"] = np.where(df[\"relaxation\"]>100,100,df[\"relaxation\"])\n",
    "df[\"relaxation\"] = np.where(df[\"relaxation\"]<52,52,df[\"relaxation\"])\n",
    "df[\"fasting blood sugar\"] = np.where(df[\"fasting blood sugar\"]>126,126,df[\"fasting blood sugar\"])\n",
    "df[\"fasting blood sugar\"] = np.where(df[\"fasting blood sugar\"]<66.5,66.5,df[\"fasting blood sugar\"])\n",
    "df[\"Cholesterol\"] = np.where(df[\"Cholesterol\"]<100,100,df[\"Cholesterol\"])\n",
    "df[\"Cholesterol\"] = np.where(df[\"Cholesterol\"]>292,292,df[\"Cholesterol\"])"
   ]
  },
  {
   "cell_type": "code",
   "execution_count": 24,
   "id": "3291b50d",
   "metadata": {},
   "outputs": [],
   "source": [
    "df[\"triglyceride\"] = np.where(df[\"triglyceride\"]>289,289,df[\"triglyceride\"])\n",
    "df[\"HDL\"] = np.where(df[\"HDL\"]>94.5,94.5,df[\"HDL\"])\n",
    "df[\"HDL\"] = np.where(df[\"HDL\"]<18.5,18.5,df[\"HDL\"])\n",
    "df[\"LDL\"] = np.where(df[\"LDL\"]>202,202,df[\"LDL\"])\n",
    "df[\"LDL\"] = np.where(df[\"LDL\"]<26,26,df[\"LDL\"])"
   ]
  },
  {
   "cell_type": "code",
   "execution_count": 25,
   "id": "ce9f7e5f",
   "metadata": {},
   "outputs": [],
   "source": [
    "df[\"hemoglobin\"] = np.where(df[\"hemoglobin\"]>18.849,18.849,df[\"hemoglobin\"])\n",
    "df[\"hemoglobin\"] = np.where(df[\"hemoglobin\"]<10.45,10.45,df[\"hemoglobin\"])\n",
    "df[\"waist(cm)\"] = np.where(df[\"waist(cm)\"]>106,106,df[\"waist(cm)\"])\n",
    "df[\"waist(cm)\"] = np.where(df[\"waist(cm)\"]<58,58,df[\"waist(cm)\"])\n",
    "df[\"serum creatinine\"] = np.where(df[\"serum creatinine\"]>1.2,1.2,df[\"serum creatinine\"])\n",
    "df[\"serum creatinine\"] = np.where(df[\"serum creatinine\"]<0.60,0.600,df[\"serum creatinine\"])\n",
    "df[\"AST\"] = np.where(df[\"AST\"]>44,44,df[\"AST\"])"
   ]
  },
  {
   "cell_type": "code",
   "execution_count": 26,
   "id": "62766a12",
   "metadata": {},
   "outputs": [],
   "source": [
    "df[\"ALT\"] = np.where(df[\"ALT\"]>55,55,df[\"ALT\"])\n",
    "df[\"AST\"] = np.where(df[\"AST\"]>44,44,df[\"AST\"])\n",
    "df[\"Gtp\"] = np.where(df[\"Gtp\"]>84.5,84.5,df[\"Gtp\"])"
   ]
  },
  {
   "cell_type": "code",
   "execution_count": 27,
   "id": "1bea079b",
   "metadata": {
    "scrolled": false
   },
   "outputs": [
    {
     "data": {
      "image/png": "[encoded data removed]",
      "text/plain": [
       "<Figure size 432x288 with 1 Axes>"
      ]
     },
     "metadata": {
      "needs_background": "light"
     },
     "output_type": "display_data"
    },
    {
     "data": {
      "image/png": "[encoded data removed]",
      "text/plain": [
       "<Figure size 432x288 with 1 Axes>"
      ]
     },
     "metadata": {
      "needs_background": "light"
     },
     "output_type": "display_data"
    },
    {
     "data": {
      "image/png": "[encoded data removed]",
      "text/plain": [
       "<Figure size 432x288 with 1 Axes>"
      ]
     },
     "metadata": {
      "needs_background": "light"
     },
     "output_type": "display_data"
    },
    {
     "data": {
      "image/png": "[encoded data removed]",
      "text/plain": [
       "<Figure size 432x288 with 1 Axes>"
      ]
     },
     "metadata": {
      "needs_background": "light"
     },
     "output_type": "display_data"
    },
    {
     "data": {
      "image/png": "[encoded data removed]",
      "text/plain": [
       "<Figure size 432x288 with 1 Axes>"
      ]
     },
     "metadata": {
      "needs_background": "light"
     },
     "output_type": "display_data"
    },
    {
     "data": {
      "image/png": "[encoded data removed]",
      "text/plain": [
       "<Figure size 432x288 with 1 Axes>"
      ]
     },
     "metadata": {
      "needs_background": "light"
     },
     "output_type": "display_data"
    },
    {
     "data": {
      "image/png": "[encoded data removed]",
      "text/plain": [
       "<Figure size 432x288 with 1 Axes>"
      ]
     },
     "metadata": {
      "needs_background": "light"
     },
     "output_type": "display_data"
    },
    {
     "data": {
      "image/png": "[encoded data removed]",
      "text/plain": [
       "<Figure size 432x288 with 1 Axes>"
      ]
     },
     "metadata": {
      "needs_background": "light"
     },
     "output_type": "display_data"
    },
    {
     "data": {
      "image/png": "[encoded data removed]",
      "text/plain": [
       "<Figure size 432x288 with 1 Axes>"
      ]
     },
     "metadata": {
      "needs_background": "light"
     },
     "output_type": "display_data"
    },
    {
     "data": {
      "image/png": "[encoded data removed]",
      "text/plain": [
       "<Figure size 432x288 with 1 Axes>"
      ]
     },
     "metadata": {
      "needs_background": "light"
     },
     "output_type": "display_data"
    },
    {
     "data": {
      "image/png": "[encoded data removed]",
      "text/plain": [
       "<Figure size 432x288 with 1 Axes>"
      ]
     },
     "metadata": {
      "needs_background": "light"
     },
     "output_type": "display_data"
    },
    {
     "data": {
      "image/png": "[encoded data removed]",
      "text/plain": [
       "<Figure size 432x288 with 1 Axes>"
      ]
     },
     "metadata": {
      "needs_background": "light"
     },
     "output_type": "display_data"
    },
    {
     "data": {
      "image/png": "[encoded data removed]",
      "text/plain": [
       "<Figure size 432x288 with 1 Axes>"
      ]
     },
     "metadata": {
      "needs_background": "light"
     },
     "output_type": "display_data"
    },
    {
     "data": {
      "image/png": "[encoded data removed]",
      "text/plain": [
       "<Figure size 432x288 with 1 Axes>"
      ]
     },
     "metadata": {
      "needs_background": "light"
     },
     "output_type": "display_data"
    },
    {
     "data": {
      "image/png": "[encoded data removed]",
      "text/plain": [
       "<Figure size 432x288 with 1 Axes>"
      ]
     },
     "metadata": {
      "needs_background": "light"
     },
     "output_type": "display_data"
    },
    {
     "data": {
      "image/png": "[encoded data removed]",
      "text/plain": [
       "<Figure size 432x288 with 1 Axes>"
      ]
     },
     "metadata": {
      "needs_background": "light"
     },
     "output_type": "display_data"
    },
    {
     "data": {
      "image/png": "[encoded data removed]",
      "text/plain": [
       "<Figure size 432x288 with 1 Axes>"
      ]
     },
     "metadata": {
      "needs_background": "light"
     },
     "output_type": "display_data"
    },
    {
     "data": {
      "image/png": "[encoded data removed]",
      "text/plain": [
       "<Figure size 432x288 with 1 Axes>"
      ]
     },
     "metadata": {
      "needs_background": "light"
     },
     "output_type": "display_data"
    },
    {
     "data": {
      "image/png": "[encoded data removed]",
      "text/plain": [
       "<Figure size 432x288 with 1 Axes>"
      ]
     },
     "metadata": {
      "needs_background": "light"
     },
     "output_type": "display_data"
    },
    {
     "data": {
      "image/png": "[encoded data removed]",
      "text/plain": [
       "<Figure size 432x288 with 1 Axes>"
      ]
     },
     "metadata": {
      "needs_background": "light"
     },
     "output_type": "display_data"
    },
    {
     "data": {
      "image/png": "[encoded data removed]",
      "text/plain": [
       "<Figure size 432x288 with 1 Axes>"
      ]
     },
     "metadata": {
      "needs_background": "light"
     },
     "output_type": "display_data"
    },
    {
     "data": {
      "image/png": "[encoded data removed]",
      "text/plain": [
       "<Figure size 432x288 with 1 Axes>"
      ]
     },
     "metadata": {
      "needs_background": "light"
     },
     "output_type": "display_data"
    },
    {
     "data": {
      "image/png": "[encoded data removed]",
      "text/plain": [
       "<Figure size 432x288 with 1 Axes>"
      ]
     },
     "metadata": {
      "needs_background": "light"
     },
     "output_type": "display_data"
    }
   ],
   "source": [
    "outliers(df)"
   ]
  },
  {
   "cell_type": "code",
   "execution_count": 28,
   "id": "c03f50d8",
   "metadata": {},
   "outputs": [
    {
     "data": {
      "text/html": [
       "<div>\n",
       "<style scoped>\n",
       "    .dataframe tbody tr th:only-of-type {\n",
       "        vertical-align: middle;\n",
       "    }\n",
       "\n",
       "    .dataframe tbody tr th {\n",
       "        vertical-align: top;\n",
       "    }\n",
       "\n",
       "    .dataframe thead th {\n",
       "        text-align: right;\n",
       "    }\n",
       "</style>\n",
       "<table border=\"1\" class=\"dataframe\">\n",
       "  <thead>\n",
       "    <tr style=\"text-align: right;\">\n",
       "      <th></th>\n",
       "      <th>age</th>\n",
       "      <th>height(cm)</th>\n",
       "      <th>weight(kg)</th>\n",
       "      <th>waist(cm)</th>\n",
       "      <th>eyesight(left)</th>\n",
       "      <th>eyesight(right)</th>\n",
       "      <th>hearing(left)</th>\n",
       "      <th>hearing(right)</th>\n",
       "      <th>systolic</th>\n",
       "      <th>relaxation</th>\n",
       "      <th>...</th>\n",
       "      <th>HDL</th>\n",
       "      <th>LDL</th>\n",
       "      <th>hemoglobin</th>\n",
       "      <th>Urine protein</th>\n",
       "      <th>serum creatinine</th>\n",
       "      <th>AST</th>\n",
       "      <th>ALT</th>\n",
       "      <th>Gtp</th>\n",
       "      <th>dental caries</th>\n",
       "      <th>smoking</th>\n",
       "    </tr>\n",
       "  </thead>\n",
       "  <tbody>\n",
       "    <tr>\n",
       "      <th>age</th>\n",
       "      <td>1.000000</td>\n",
       "      <td>-0.479464</td>\n",
       "      <td>-0.325857</td>\n",
       "      <td>-0.025549</td>\n",
       "      <td>-0.330410</td>\n",
       "      <td>-0.327433</td>\n",
       "      <td>0.203730</td>\n",
       "      <td>0.207020</td>\n",
       "      <td>0.131857</td>\n",
       "      <td>0.051043</td>\n",
       "      <td>...</td>\n",
       "      <td>0.008902</td>\n",
       "      <td>0.049376</td>\n",
       "      <td>-0.276058</td>\n",
       "      <td>0.026644</td>\n",
       "      <td>-0.149210</td>\n",
       "      <td>0.088864</td>\n",
       "      <td>-0.098311</td>\n",
       "      <td>-0.013423</td>\n",
       "      <td>-0.116172</td>\n",
       "      <td>-0.161011</td>\n",
       "    </tr>\n",
       "    <tr>\n",
       "      <th>height(cm)</th>\n",
       "      <td>-0.479464</td>\n",
       "      <td>1.000000</td>\n",
       "      <td>0.678710</td>\n",
       "      <td>0.381808</td>\n",
       "      <td>0.238273</td>\n",
       "      <td>0.243219</td>\n",
       "      <td>-0.079480</td>\n",
       "      <td>-0.076743</td>\n",
       "      <td>0.086447</td>\n",
       "      <td>0.118190</td>\n",
       "      <td>...</td>\n",
       "      <td>-0.221132</td>\n",
       "      <td>-0.057897</td>\n",
       "      <td>0.550367</td>\n",
       "      <td>0.007329</td>\n",
       "      <td>0.461658</td>\n",
       "      <td>0.075988</td>\n",
       "      <td>0.242905</td>\n",
       "      <td>0.241186</td>\n",
       "      <td>0.080716</td>\n",
       "      <td>0.394413</td>\n",
       "    </tr>\n",
       "    <tr>\n",
       "      <th>weight(kg)</th>\n",
       "      <td>-0.325857</td>\n",
       "      <td>0.678710</td>\n",
       "      <td>1.000000</td>\n",
       "      <td>0.821115</td>\n",
       "      <td>0.169348</td>\n",
       "      <td>0.170008</td>\n",
       "      <td>-0.051719</td>\n",
       "      <td>-0.052538</td>\n",
       "      <td>0.270001</td>\n",
       "      <td>0.272959</td>\n",
       "      <td>...</td>\n",
       "      <td>-0.369746</td>\n",
       "      <td>0.050973</td>\n",
       "      <td>0.502379</td>\n",
       "      <td>0.031568</td>\n",
       "      <td>0.389520</td>\n",
       "      <td>0.217900</td>\n",
       "      <td>0.445924</td>\n",
       "      <td>0.375736</td>\n",
       "      <td>0.074852</td>\n",
       "      <td>0.300931</td>\n",
       "    </tr>\n",
       "    <tr>\n",
       "      <th>waist(cm)</th>\n",
       "      <td>-0.025549</td>\n",
       "      <td>0.381808</td>\n",
       "      <td>0.821115</td>\n",
       "      <td>1.000000</td>\n",
       "      <td>0.036521</td>\n",
       "      <td>0.037914</td>\n",
       "      <td>0.023314</td>\n",
       "      <td>0.019843</td>\n",
       "      <td>0.319702</td>\n",
       "      <td>0.292175</td>\n",
       "      <td>...</td>\n",
       "      <td>-0.387045</td>\n",
       "      <td>0.084715</td>\n",
       "      <td>0.390852</td>\n",
       "      <td>0.042772</td>\n",
       "      <td>0.273864</td>\n",
       "      <td>0.263052</td>\n",
       "      <td>0.447052</td>\n",
       "      <td>0.406000</td>\n",
       "      <td>0.044448</td>\n",
       "      <td>0.225832</td>\n",
       "    </tr>\n",
       "    <tr>\n",
       "      <th>eyesight(left)</th>\n",
       "      <td>-0.330410</td>\n",
       "      <td>0.238273</td>\n",
       "      <td>0.169348</td>\n",
       "      <td>0.036521</td>\n",
       "      <td>1.000000</td>\n",
       "      <td>0.689305</td>\n",
       "      <td>-0.091640</td>\n",
       "      <td>-0.097787</td>\n",
       "      <td>-0.037787</td>\n",
       "      <td>0.005061</td>\n",
       "      <td>...</td>\n",
       "      <td>-0.023613</td>\n",
       "      <td>-0.007467</td>\n",
       "      <td>0.146141</td>\n",
       "      <td>-0.022455</td>\n",
       "      <td>0.100475</td>\n",
       "      <td>-0.021005</td>\n",
       "      <td>0.058863</td>\n",
       "      <td>0.034434</td>\n",
       "      <td>0.017123</td>\n",
       "      <td>0.089865</td>\n",
       "    </tr>\n",
       "    <tr>\n",
       "      <th>eyesight(right)</th>\n",
       "      <td>-0.327433</td>\n",
       "      <td>0.243219</td>\n",
       "      <td>0.170008</td>\n",
       "      <td>0.037914</td>\n",
       "      <td>0.689305</td>\n",
       "      <td>1.000000</td>\n",
       "      <td>-0.093920</td>\n",
       "      <td>-0.100096</td>\n",
       "      <td>-0.034495</td>\n",
       "      <td>0.006999</td>\n",
       "      <td>...</td>\n",
       "      <td>-0.025503</td>\n",
       "      <td>-0.006413</td>\n",
       "      <td>0.148343</td>\n",
       "      <td>-0.023729</td>\n",
       "      <td>0.099244</td>\n",
       "      <td>-0.017908</td>\n",
       "      <td>0.062549</td>\n",
       "      <td>0.037513</td>\n",
       "      <td>0.024907</td>\n",
       "      <td>0.098154</td>\n",
       "    </tr>\n",
       "    <tr>\n",
       "      <th>hearing(left)</th>\n",
       "      <td>0.203730</td>\n",
       "      <td>-0.079480</td>\n",
       "      <td>-0.051719</td>\n",
       "      <td>0.023314</td>\n",
       "      <td>-0.091640</td>\n",
       "      <td>-0.093920</td>\n",
       "      <td>1.000000</td>\n",
       "      <td>0.506171</td>\n",
       "      <td>0.057308</td>\n",
       "      <td>0.009949</td>\n",
       "      <td>...</td>\n",
       "      <td>-0.021246</td>\n",
       "      <td>-0.019591</td>\n",
       "      <td>-0.029842</td>\n",
       "      <td>0.013231</td>\n",
       "      <td>0.000204</td>\n",
       "      <td>0.026416</td>\n",
       "      <td>-0.019132</td>\n",
       "      <td>0.002645</td>\n",
       "      <td>-0.013395</td>\n",
       "      <td>-0.023519</td>\n",
       "    </tr>\n",
       "    <tr>\n",
       "      <th>hearing(right)</th>\n",
       "      <td>0.207020</td>\n",
       "      <td>-0.076743</td>\n",
       "      <td>-0.052538</td>\n",
       "      <td>0.019843</td>\n",
       "      <td>-0.097787</td>\n",
       "      <td>-0.100096</td>\n",
       "      <td>0.506171</td>\n",
       "      <td>1.000000</td>\n",
       "      <td>0.052250</td>\n",
       "      <td>0.004122</td>\n",
       "      <td>...</td>\n",
       "      <td>-0.021536</td>\n",
       "      <td>-0.017593</td>\n",
       "      <td>-0.032562</td>\n",
       "      <td>0.015334</td>\n",
       "      <td>0.007188</td>\n",
       "      <td>0.028695</td>\n",
       "      <td>-0.020484</td>\n",
       "      <td>0.006181</td>\n",
       "      <td>-0.016059</td>\n",
       "      <td>-0.018060</td>\n",
       "    </tr>\n",
       "    <tr>\n",
       "      <th>systolic</th>\n",
       "      <td>0.131857</td>\n",
       "      <td>0.086447</td>\n",
       "      <td>0.270001</td>\n",
       "      <td>0.319702</td>\n",
       "      <td>-0.037787</td>\n",
       "      <td>-0.034495</td>\n",
       "      <td>0.057308</td>\n",
       "      <td>0.052250</td>\n",
       "      <td>1.000000</td>\n",
       "      <td>0.756188</td>\n",
       "      <td>...</td>\n",
       "      <td>-0.092873</td>\n",
       "      <td>0.016873</td>\n",
       "      <td>0.189881</td>\n",
       "      <td>0.042435</td>\n",
       "      <td>0.078152</td>\n",
       "      <td>0.167614</td>\n",
       "      <td>0.189115</td>\n",
       "      <td>0.238272</td>\n",
       "      <td>0.028175</td>\n",
       "      <td>0.075077</td>\n",
       "    </tr>\n",
       "    <tr>\n",
       "      <th>relaxation</th>\n",
       "      <td>0.051043</td>\n",
       "      <td>0.118190</td>\n",
       "      <td>0.272959</td>\n",
       "      <td>0.292175</td>\n",
       "      <td>0.005061</td>\n",
       "      <td>0.006999</td>\n",
       "      <td>0.009949</td>\n",
       "      <td>0.004122</td>\n",
       "      <td>0.756188</td>\n",
       "      <td>1.000000</td>\n",
       "      <td>...</td>\n",
       "      <td>-0.094224</td>\n",
       "      <td>0.051493</td>\n",
       "      <td>0.238005</td>\n",
       "      <td>0.043526</td>\n",
       "      <td>0.097573</td>\n",
       "      <td>0.163303</td>\n",
       "      <td>0.202499</td>\n",
       "      <td>0.259657</td>\n",
       "      <td>0.029822</td>\n",
       "      <td>0.108519</td>\n",
       "    </tr>\n",
       "    <tr>\n",
       "      <th>fasting blood sugar</th>\n",
       "      <td>0.230406</td>\n",
       "      <td>0.018325</td>\n",
       "      <td>0.173228</td>\n",
       "      <td>0.263870</td>\n",
       "      <td>-0.069148</td>\n",
       "      <td>-0.069452</td>\n",
       "      <td>0.047079</td>\n",
       "      <td>0.049489</td>\n",
       "      <td>0.224516</td>\n",
       "      <td>0.191303</td>\n",
       "      <td>...</td>\n",
       "      <td>-0.138280</td>\n",
       "      <td>-0.014291</td>\n",
       "      <td>0.112786</td>\n",
       "      <td>0.068245</td>\n",
       "      <td>0.064429</td>\n",
       "      <td>0.133362</td>\n",
       "      <td>0.192358</td>\n",
       "      <td>0.262094</td>\n",
       "      <td>0.005761</td>\n",
       "      <td>0.105752</td>\n",
       "    </tr>\n",
       "    <tr>\n",
       "      <th>Cholesterol</th>\n",
       "      <td>0.055353</td>\n",
       "      <td>-0.082250</td>\n",
       "      <td>0.025138</td>\n",
       "      <td>0.063594</td>\n",
       "      <td>-0.006438</td>\n",
       "      <td>-0.005319</td>\n",
       "      <td>-0.025458</td>\n",
       "      <td>-0.024632</td>\n",
       "      <td>0.056686</td>\n",
       "      <td>0.095500</td>\n",
       "      <td>...</td>\n",
       "      <td>0.171823</td>\n",
       "      <td>0.898692</td>\n",
       "      <td>0.060955</td>\n",
       "      <td>-0.006565</td>\n",
       "      <td>0.015030</td>\n",
       "      <td>0.090116</td>\n",
       "      <td>0.106199</td>\n",
       "      <td>0.134744</td>\n",
       "      <td>-0.002427</td>\n",
       "      <td>-0.029880</td>\n",
       "    </tr>\n",
       "    <tr>\n",
       "      <th>triglyceride</th>\n",
       "      <td>0.018685</td>\n",
       "      <td>0.160214</td>\n",
       "      <td>0.332055</td>\n",
       "      <td>0.373468</td>\n",
       "      <td>0.024233</td>\n",
       "      <td>0.026816</td>\n",
       "      <td>0.003756</td>\n",
       "      <td>0.001577</td>\n",
       "      <td>0.203857</td>\n",
       "      <td>0.221532</td>\n",
       "      <td>...</td>\n",
       "      <td>-0.437095</td>\n",
       "      <td>0.044292</td>\n",
       "      <td>0.283148</td>\n",
       "      <td>0.032689</td>\n",
       "      <td>0.150927</td>\n",
       "      <td>0.205685</td>\n",
       "      <td>0.341630</td>\n",
       "      <td>0.432919</td>\n",
       "      <td>0.029978</td>\n",
       "      <td>0.255744</td>\n",
       "    </tr>\n",
       "    <tr>\n",
       "      <th>HDL</th>\n",
       "      <td>0.008902</td>\n",
       "      <td>-0.221132</td>\n",
       "      <td>-0.369746</td>\n",
       "      <td>-0.387045</td>\n",
       "      <td>-0.023613</td>\n",
       "      <td>-0.025503</td>\n",
       "      <td>-0.021246</td>\n",
       "      <td>-0.021536</td>\n",
       "      <td>-0.092873</td>\n",
       "      <td>-0.094224</td>\n",
       "      <td>...</td>\n",
       "      <td>1.000000</td>\n",
       "      <td>-0.064985</td>\n",
       "      <td>-0.256140</td>\n",
       "      <td>-0.013890</td>\n",
       "      <td>-0.206658</td>\n",
       "      <td>-0.076679</td>\n",
       "      <td>-0.246043</td>\n",
       "      <td>-0.159812</td>\n",
       "      <td>-0.027538</td>\n",
       "      <td>-0.185396</td>\n",
       "    </tr>\n",
       "    <tr>\n",
       "      <th>LDL</th>\n",
       "      <td>0.049376</td>\n",
       "      <td>-0.057897</td>\n",
       "      <td>0.050973</td>\n",
       "      <td>0.084715</td>\n",
       "      <td>-0.007467</td>\n",
       "      <td>-0.006413</td>\n",
       "      <td>-0.019591</td>\n",
       "      <td>-0.017593</td>\n",
       "      <td>0.016873</td>\n",
       "      <td>0.051493</td>\n",
       "      <td>...</td>\n",
       "      <td>-0.064985</td>\n",
       "      <td>1.000000</td>\n",
       "      <td>0.061286</td>\n",
       "      <td>-0.012726</td>\n",
       "      <td>0.043560</td>\n",
       "      <td>0.043870</td>\n",
       "      <td>0.080409</td>\n",
       "      <td>0.035387</td>\n",
       "      <td>-0.004322</td>\n",
       "      <td>-0.057634</td>\n",
       "    </tr>\n",
       "    <tr>\n",
       "      <th>hemoglobin</th>\n",
       "      <td>-0.276058</td>\n",
       "      <td>0.550367</td>\n",
       "      <td>0.502379</td>\n",
       "      <td>0.390852</td>\n",
       "      <td>0.146141</td>\n",
       "      <td>0.148343</td>\n",
       "      <td>-0.029842</td>\n",
       "      <td>-0.032562</td>\n",
       "      <td>0.189881</td>\n",
       "      <td>0.238005</td>\n",
       "      <td>...</td>\n",
       "      <td>-0.256140</td>\n",
       "      <td>0.061286</td>\n",
       "      <td>1.000000</td>\n",
       "      <td>0.022090</td>\n",
       "      <td>0.467717</td>\n",
       "      <td>0.229947</td>\n",
       "      <td>0.385421</td>\n",
       "      <td>0.376475</td>\n",
       "      <td>0.072089</td>\n",
       "      <td>0.404653</td>\n",
       "    </tr>\n",
       "    <tr>\n",
       "      <th>Urine protein</th>\n",
       "      <td>0.026644</td>\n",
       "      <td>0.007329</td>\n",
       "      <td>0.031568</td>\n",
       "      <td>0.042772</td>\n",
       "      <td>-0.022455</td>\n",
       "      <td>-0.023729</td>\n",
       "      <td>0.013231</td>\n",
       "      <td>0.015334</td>\n",
       "      <td>0.042435</td>\n",
       "      <td>0.043526</td>\n",
       "      <td>...</td>\n",
       "      <td>-0.013890</td>\n",
       "      <td>-0.012726</td>\n",
       "      <td>0.022090</td>\n",
       "      <td>1.000000</td>\n",
       "      <td>0.031727</td>\n",
       "      <td>0.049286</td>\n",
       "      <td>0.040574</td>\n",
       "      <td>0.057335</td>\n",
       "      <td>-0.002007</td>\n",
       "      <td>0.015757</td>\n",
       "    </tr>\n",
       "    <tr>\n",
       "      <th>serum creatinine</th>\n",
       "      <td>-0.149210</td>\n",
       "      <td>0.461658</td>\n",
       "      <td>0.389520</td>\n",
       "      <td>0.273864</td>\n",
       "      <td>0.100475</td>\n",
       "      <td>0.099244</td>\n",
       "      <td>0.000204</td>\n",
       "      <td>0.007188</td>\n",
       "      <td>0.078152</td>\n",
       "      <td>0.097573</td>\n",
       "      <td>...</td>\n",
       "      <td>-0.206658</td>\n",
       "      <td>0.043560</td>\n",
       "      <td>0.467717</td>\n",
       "      <td>0.031727</td>\n",
       "      <td>1.000000</td>\n",
       "      <td>0.141902</td>\n",
       "      <td>0.202979</td>\n",
       "      <td>0.219612</td>\n",
       "      <td>0.038801</td>\n",
       "      <td>0.258922</td>\n",
       "    </tr>\n",
       "    <tr>\n",
       "      <th>AST</th>\n",
       "      <td>0.088864</td>\n",
       "      <td>0.075988</td>\n",
       "      <td>0.217900</td>\n",
       "      <td>0.263052</td>\n",
       "      <td>-0.021005</td>\n",
       "      <td>-0.017908</td>\n",
       "      <td>0.026416</td>\n",
       "      <td>0.028695</td>\n",
       "      <td>0.167614</td>\n",
       "      <td>0.163303</td>\n",
       "      <td>...</td>\n",
       "      <td>-0.076679</td>\n",
       "      <td>0.043870</td>\n",
       "      <td>0.229947</td>\n",
       "      <td>0.049286</td>\n",
       "      <td>0.141902</td>\n",
       "      <td>1.000000</td>\n",
       "      <td>0.763329</td>\n",
       "      <td>0.495726</td>\n",
       "      <td>0.009045</td>\n",
       "      <td>0.104977</td>\n",
       "    </tr>\n",
       "    <tr>\n",
       "      <th>ALT</th>\n",
       "      <td>-0.098311</td>\n",
       "      <td>0.242905</td>\n",
       "      <td>0.445924</td>\n",
       "      <td>0.447052</td>\n",
       "      <td>0.058863</td>\n",
       "      <td>0.062549</td>\n",
       "      <td>-0.019132</td>\n",
       "      <td>-0.020484</td>\n",
       "      <td>0.189115</td>\n",
       "      <td>0.202499</td>\n",
       "      <td>...</td>\n",
       "      <td>-0.246043</td>\n",
       "      <td>0.080409</td>\n",
       "      <td>0.385421</td>\n",
       "      <td>0.040574</td>\n",
       "      <td>0.202979</td>\n",
       "      <td>0.763329</td>\n",
       "      <td>1.000000</td>\n",
       "      <td>0.595590</td>\n",
       "      <td>0.037485</td>\n",
       "      <td>0.193225</td>\n",
       "    </tr>\n",
       "    <tr>\n",
       "      <th>Gtp</th>\n",
       "      <td>-0.013423</td>\n",
       "      <td>0.241186</td>\n",
       "      <td>0.375736</td>\n",
       "      <td>0.406000</td>\n",
       "      <td>0.034434</td>\n",
       "      <td>0.037513</td>\n",
       "      <td>0.002645</td>\n",
       "      <td>0.006181</td>\n",
       "      <td>0.238272</td>\n",
       "      <td>0.259657</td>\n",
       "      <td>...</td>\n",
       "      <td>-0.159812</td>\n",
       "      <td>0.035387</td>\n",
       "      <td>0.376475</td>\n",
       "      <td>0.057335</td>\n",
       "      <td>0.219612</td>\n",
       "      <td>0.495726</td>\n",
       "      <td>0.595590</td>\n",
       "      <td>1.000000</td>\n",
       "      <td>0.060240</td>\n",
       "      <td>0.343465</td>\n",
       "    </tr>\n",
       "    <tr>\n",
       "      <th>dental caries</th>\n",
       "      <td>-0.116172</td>\n",
       "      <td>0.080716</td>\n",
       "      <td>0.074852</td>\n",
       "      <td>0.044448</td>\n",
       "      <td>0.017123</td>\n",
       "      <td>0.024907</td>\n",
       "      <td>-0.013395</td>\n",
       "      <td>-0.016059</td>\n",
       "      <td>0.028175</td>\n",
       "      <td>0.029822</td>\n",
       "      <td>...</td>\n",
       "      <td>-0.027538</td>\n",
       "      <td>-0.004322</td>\n",
       "      <td>0.072089</td>\n",
       "      <td>-0.002007</td>\n",
       "      <td>0.038801</td>\n",
       "      <td>0.009045</td>\n",
       "      <td>0.037485</td>\n",
       "      <td>0.060240</td>\n",
       "      <td>1.000000</td>\n",
       "      <td>0.105277</td>\n",
       "    </tr>\n",
       "    <tr>\n",
       "      <th>smoking</th>\n",
       "      <td>-0.161011</td>\n",
       "      <td>0.394413</td>\n",
       "      <td>0.300931</td>\n",
       "      <td>0.225832</td>\n",
       "      <td>0.089865</td>\n",
       "      <td>0.098154</td>\n",
       "      <td>-0.023519</td>\n",
       "      <td>-0.018060</td>\n",
       "      <td>0.075077</td>\n",
       "      <td>0.108519</td>\n",
       "      <td>...</td>\n",
       "      <td>-0.185396</td>\n",
       "      <td>-0.057634</td>\n",
       "      <td>0.404653</td>\n",
       "      <td>0.015757</td>\n",
       "      <td>0.258922</td>\n",
       "      <td>0.104977</td>\n",
       "      <td>0.193225</td>\n",
       "      <td>0.343465</td>\n",
       "      <td>0.105277</td>\n",
       "      <td>1.000000</td>\n",
       "    </tr>\n",
       "  </tbody>\n",
       "</table>\n",
       "<p>23 rows × 23 columns</p>\n",
       "</div>"
      ],
      "text/plain": [
       "                          age  height(cm)  weight(kg)  waist(cm)  \\\n",
       "age                  1.000000   -0.479464   -0.325857  -0.025549   \n",
       "height(cm)          -0.479464    1.000000    0.678710   0.381808   \n",
       "weight(kg)          -0.325857    0.678710    1.000000   0.821115   \n",
       "waist(cm)           -0.025549    0.381808    0.821115   1.000000   \n",
       "eyesight(left)      -0.330410    0.238273    0.169348   0.036521   \n",
       "eyesight(right)     -0.327433    0.243219    0.170008   0.037914   \n",
       "hearing(left)        0.203730   -0.079480   -0.051719   0.023314   \n",
       "hearing(right)       0.207020   -0.076743   -0.052538   0.019843   \n",
       "systolic             0.131857    0.086447    0.270001   0.319702   \n",
       "relaxation           0.051043    0.118190    0.272959   0.292175   \n",
       "fasting blood sugar  0.230406    0.018325    0.173228   0.263870   \n",
       "Cholesterol          0.055353   -0.082250    0.025138   0.063594   \n",
       "triglyceride         0.018685    0.160214    0.332055   0.373468   \n",
       "HDL                  0.008902   -0.221132   -0.369746  -0.387045   \n",
       "LDL                  0.049376   -0.057897    0.050973   0.084715   \n",
       "hemoglobin          -0.276058    0.550367    0.502379   0.390852   \n",
       "Urine protein        0.026644    0.007329    0.031568   0.042772   \n",
       "serum creatinine    -0.149210    0.461658    0.389520   0.273864   \n",
       "AST                  0.088864    0.075988    0.217900   0.263052   \n",
       "ALT                 -0.098311    0.242905    0.445924   0.447052   \n",
       "Gtp                 -0.013423    0.241186    0.375736   0.406000   \n",
       "dental caries       -0.116172    0.080716    0.074852   0.044448   \n",
       "smoking             -0.161011    0.394413    0.300931   0.225832   \n",
       "\n",
       "                     eyesight(left)  eyesight(right)  hearing(left)  \\\n",
       "age                       -0.330410        -0.327433       0.203730   \n",
       "height(cm)                 0.238273         0.243219      -0.079480   \n",
       "weight(kg)                 0.169348         0.170008      -0.051719   \n",
       "waist(cm)                  0.036521         0.037914       0.023314   \n",
       "eyesight(left)             1.000000         0.689305      -0.091640   \n",
       "eyesight(right)            0.689305         1.000000      -0.093920   \n",
       "hearing(left)             -0.091640        -0.093920       1.000000   \n",
       "hearing(right)            -0.097787        -0.100096       0.506171   \n",
       "systolic                  -0.037787        -0.034495       0.057308   \n",
       "relaxation                 0.005061         0.006999       0.009949   \n",
       "fasting blood sugar       -0.069148        -0.069452       0.047079   \n",
       "Cholesterol               -0.006438        -0.005319      -0.025458   \n",
       "triglyceride               0.024233         0.026816       0.003756   \n",
       "HDL                       -0.023613        -0.025503      -0.021246   \n",
       "LDL                       -0.007467        -0.006413      -0.019591   \n",
       "hemoglobin                 0.146141         0.148343      -0.029842   \n",
       "Urine protein             -0.022455        -0.023729       0.013231   \n",
       "serum creatinine           0.100475         0.099244       0.000204   \n",
       "AST                       -0.021005        -0.017908       0.026416   \n",
       "ALT                        0.058863         0.062549      -0.019132   \n",
       "Gtp                        0.034434         0.037513       0.002645   \n",
       "dental caries              0.017123         0.024907      -0.013395   \n",
       "smoking                    0.089865         0.098154      -0.023519   \n",
       "\n",
       "                     hearing(right)  systolic  relaxation  ...       HDL  \\\n",
       "age                        0.207020  0.131857    0.051043  ...  0.008902   \n",
       "height(cm)                -0.076743  0.086447    0.118190  ... -0.221132   \n",
       "weight(kg)                -0.052538  0.270001    0.272959  ... -0.369746   \n",
       "waist(cm)                  0.019843  0.319702    0.292175  ... -0.387045   \n",
       "eyesight(left)            -0.097787 -0.037787    0.005061  ... -0.023613   \n",
       "eyesight(right)           -0.100096 -0.034495    0.006999  ... -0.025503   \n",
       "hearing(left)              0.506171  0.057308    0.009949  ... -0.021246   \n",
       "hearing(right)             1.000000  0.052250    0.004122  ... -0.021536   \n",
       "systolic                   0.052250  1.000000    0.756188  ... -0.092873   \n",
       "relaxation                 0.004122  0.756188    1.000000  ... -0.094224   \n",
       "fasting blood sugar        0.049489  0.224516    0.191303  ... -0.138280   \n",
       "Cholesterol               -0.024632  0.056686    0.095500  ...  0.171823   \n",
       "triglyceride               0.001577  0.203857    0.221532  ... -0.437095   \n",
       "HDL                       -0.021536 -0.092873   -0.094224  ...  1.000000   \n",
       "LDL                       -0.017593  0.016873    0.051493  ... -0.064985   \n",
       "hemoglobin                -0.032562  0.189881    0.238005  ... -0.256140   \n",
       "Urine protein              0.015334  0.042435    0.043526  ... -0.013890   \n",
       "serum creatinine           0.007188  0.078152    0.097573  ... -0.206658   \n",
       "AST                        0.028695  0.167614    0.163303  ... -0.076679   \n",
       "ALT                       -0.020484  0.189115    0.202499  ... -0.246043   \n",
       "Gtp                        0.006181  0.238272    0.259657  ... -0.159812   \n",
       "dental caries             -0.016059  0.028175    0.029822  ... -0.027538   \n",
       "smoking                   -0.018060  0.075077    0.108519  ... -0.185396   \n",
       "\n",
       "                          LDL  hemoglobin  Urine protein  serum creatinine  \\\n",
       "age                  0.049376   -0.276058       0.026644         -0.149210   \n",
       "height(cm)          -0.057897    0.550367       0.007329          0.461658   \n",
       "weight(kg)           0.050973    0.502379       0.031568          0.389520   \n",
       "waist(cm)            0.084715    0.390852       0.042772          0.273864   \n",
       "eyesight(left)      -0.007467    0.146141      -0.022455          0.100475   \n",
       "eyesight(right)     -0.006413    0.148343      -0.023729          0.099244   \n",
       "hearing(left)       -0.019591   -0.029842       0.013231          0.000204   \n",
       "hearing(right)      -0.017593   -0.032562       0.015334          0.007188   \n",
       "systolic             0.016873    0.189881       0.042435          0.078152   \n",
       "relaxation           0.051493    0.238005       0.043526          0.097573   \n",
       "fasting blood sugar -0.014291    0.112786       0.068245          0.064429   \n",
       "Cholesterol          0.898692    0.060955      -0.006565          0.015030   \n",
       "triglyceride         0.044292    0.283148       0.032689          0.150927   \n",
       "HDL                 -0.064985   -0.256140      -0.013890         -0.206658   \n",
       "LDL                  1.000000    0.061286      -0.012726          0.043560   \n",
       "hemoglobin           0.061286    1.000000       0.022090          0.467717   \n",
       "Urine protein       -0.012726    0.022090       1.000000          0.031727   \n",
       "serum creatinine     0.043560    0.467717       0.031727          1.000000   \n",
       "AST                  0.043870    0.229947       0.049286          0.141902   \n",
       "ALT                  0.080409    0.385421       0.040574          0.202979   \n",
       "Gtp                  0.035387    0.376475       0.057335          0.219612   \n",
       "dental caries       -0.004322    0.072089      -0.002007          0.038801   \n",
       "smoking             -0.057634    0.404653       0.015757          0.258922   \n",
       "\n",
       "                          AST       ALT       Gtp  dental caries   smoking  \n",
       "age                  0.088864 -0.098311 -0.013423      -0.116172 -0.161011  \n",
       "height(cm)           0.075988  0.242905  0.241186       0.080716  0.394413  \n",
       "weight(kg)           0.217900  0.445924  0.375736       0.074852  0.300931  \n",
       "waist(cm)            0.263052  0.447052  0.406000       0.044448  0.225832  \n",
       "eyesight(left)      -0.021005  0.058863  0.034434       0.017123  0.089865  \n",
       "eyesight(right)     -0.017908  0.062549  0.037513       0.024907  0.098154  \n",
       "hearing(left)        0.026416 -0.019132  0.002645      -0.013395 -0.023519  \n",
       "hearing(right)       0.028695 -0.020484  0.006181      -0.016059 -0.018060  \n",
       "systolic             0.167614  0.189115  0.238272       0.028175  0.075077  \n",
       "relaxation           0.163303  0.202499  0.259657       0.029822  0.108519  \n",
       "fasting blood sugar  0.133362  0.192358  0.262094       0.005761  0.105752  \n",
       "Cholesterol          0.090116  0.106199  0.134744      -0.002427 -0.029880  \n",
       "triglyceride         0.205685  0.341630  0.432919       0.029978  0.255744  \n",
       "HDL                 -0.076679 -0.246043 -0.159812      -0.027538 -0.185396  \n",
       "LDL                  0.043870  0.080409  0.035387      -0.004322 -0.057634  \n",
       "hemoglobin           0.229947  0.385421  0.376475       0.072089  0.404653  \n",
       "Urine protein        0.049286  0.040574  0.057335      -0.002007  0.015757  \n",
       "serum creatinine     0.141902  0.202979  0.219612       0.038801  0.258922  \n",
       "AST                  1.000000  0.763329  0.495726       0.009045  0.104977  \n",
       "ALT                  0.763329  1.000000  0.595590       0.037485  0.193225  \n",
       "Gtp                  0.495726  0.595590  1.000000       0.060240  0.343465  \n",
       "dental caries        0.009045  0.037485  0.060240       1.000000  0.105277  \n",
       "smoking              0.104977  0.193225  0.343465       0.105277  1.000000  \n",
       "\n",
       "[23 rows x 23 columns]"
      ]
     },
     "execution_count": 28,
     "metadata": {},
     "output_type": "execute_result"
    }
   ],
   "source": [
    "df.corr()"
   ]
  },
  {
   "cell_type": "code",
   "execution_count": 29,
   "id": "3f901a32",
   "metadata": {},
   "outputs": [],
   "source": [
    "df[\"gender\"] = np.where(df[\"gender\"]==\"M\",1,0)\n",
    "df[\"tartar\"] = np.where(df[\"tartar\"]==\"Y\",1,0)\n",
    "df.drop(columns=\"oral\",inplace=True)"
   ]
  },
  {
   "cell_type": "code",
   "execution_count": 32,
   "id": "5fb6b0fd",
   "metadata": {},
   "outputs": [],
   "source": [
    "y = df[\"smoking\"]\n",
    "X = df.drop(columns=\"smoking\")"
   ]
  },
  {
   "cell_type": "code",
   "execution_count": 33,
   "id": "cfc31eb4",
   "metadata": {},
   "outputs": [],
   "source": [
    "X_train = pd.read_csv(\"x_train.csv\")\n",
    "X_test = pd.read_csv(\"x_test.csv\")\n",
    "y_train = pd.read_csv(\"y_train.csv\")\n",
    "y_test = pd.read_csv(\"y_test.csv\")"
   ]
  },
  {
   "cell_type": "code",
   "execution_count": 78,
   "id": "f843024a",
   "metadata": {},
   "outputs": [],
   "source": [
    "# X_train,X_test,y_train,y_test = train_test_split(X,y,test_size=.2,random_state=88)"
   ]
  },
  {
   "cell_type": "code",
   "execution_count": 34,
   "id": "4ebb4a2b",
   "metadata": {},
   "outputs": [],
   "source": [
    "from sklearn.linear_model import LogisticRegression\n",
    "from sklearn.tree import DecisionTreeClassifier\n",
    "from sklearn.ensemble import RandomForestClassifier\n",
    "from sklearn.naive_bayes import GaussianNB\n",
    "from sklearn.neighbors import KNeighborsClassifier\n",
    "from sklearn.svm import SVC\n",
    "from sklearn import metrics"
   ]
  },
  {
   "cell_type": "code",
   "execution_count": 35,
   "id": "69a3ff01",
   "metadata": {},
   "outputs": [],
   "source": [
    "log = LogisticRegression()"
   ]
  },
  {
   "cell_type": "code",
   "execution_count": 36,
   "id": "61e5b0bf",
   "metadata": {},
   "outputs": [],
   "source": [
    "log = LogisticRegression()\n",
    "dt = DecisionTreeClassifier()\n",
    "rf = RandomForestClassifier()\n",
    "gb = GaussianNB()\n",
    "knn = KNeighborsClassifier()\n",
    "svm1 = SVC()"
   ]
  },
  {
   "cell_type": "markdown",
   "id": "bf68d092",
   "metadata": {},
   "source": [
    "# Data Transfromation"
   ]
  },
  {
   "cell_type": "code",
   "execution_count": 37,
   "id": "c2a58295",
   "metadata": {},
   "outputs": [],
   "source": [
    "from sklearn.preprocessing import StandardScaler"
   ]
  },
  {
   "cell_type": "code",
   "execution_count": 83,
   "id": "54d08ad9",
   "metadata": {},
   "outputs": [],
   "source": [
    "sc = StandardScaler()"
   ]
  },
  {
   "cell_type": "code",
   "execution_count": 84,
   "id": "c0b648ae",
   "metadata": {},
   "outputs": [],
   "source": [
    "sc_Xtrain = sc.fit(X_train)\n",
    "sc_Xtest = sc.fit(X_test)"
   ]
  },
  {
   "cell_type": "code",
   "execution_count": 85,
   "id": "6d97d36c",
   "metadata": {},
   "outputs": [],
   "source": [
    "X_train1 = sc_Xtrain.transform(X_train)\n",
    "X_test1 = sc_Xtest.transform(X_test)"
   ]
  },
  {
   "cell_type": "code",
   "execution_count": 72,
   "id": "112a5444",
   "metadata": {},
   "outputs": [],
   "source": [
    "x_train1 = pd.DataFrame(X_train1,columns=X_train.columns)"
   ]
  },
  {
   "cell_type": "code",
   "execution_count": 86,
   "id": "30db3cc4",
   "metadata": {},
   "outputs": [],
   "source": [
    "x_test1 = pd.DataFrame(X_test1,columns=X_test.columns)"
   ]
  },
  {
   "cell_type": "markdown",
   "id": "adfb22b1",
   "metadata": {},
   "source": [
    "# LogisticRegression"
   ]
  },
  {
   "cell_type": "code",
   "execution_count": 93,
   "id": "08c3fe53",
   "metadata": {},
   "outputs": [],
   "source": [
    "X_train.drop(columns=\"ID\",inplace=True)\n",
    "X_test.drop(columns=\"ID\",inplace=True)"
   ]
  },
  {
   "cell_type": "code",
   "execution_count": 42,
   "id": "19f68ed4",
   "metadata": {},
   "outputs": [],
   "source": [
    "X_train[\"gender\"] = np.where(X_train[\"gender\"]==\"M\",1,0)\n",
    "X_train[\"tartar\"] = np.where(X_train[\"tartar\"]==\"Y\",1,0)\n",
    "X_train.drop(columns=\"oral\",inplace=True)"
   ]
  },
  {
   "cell_type": "code",
   "execution_count": null,
   "id": "3dc7627a",
   "metadata": {},
   "outputs": [],
   "source": [
    "X_train[\"gender\"] = np.where(X_train[\"gender\"]==\"M\",1,0)\n",
    "X_train[\"tartar\"] = np.where(X_train[\"tartar\"]==\"Y\",1,0)\n",
    "X_train.drop(columns=\"oral\",inplace=True)"
   ]
  },
  {
   "cell_type": "code",
   "execution_count": 44,
   "id": "89e63096",
   "metadata": {},
   "outputs": [],
   "source": [
    "X_test[\"gender\"] = np.where(X_test[\"gender\"]==\"M\",1,0)\n",
    "X_test[\"tartar\"] = np.where(X_test[\"tartar\"]==\"Y\",1,0)\n",
    "X_test.drop(columns=\"oral\",inplace=True)"
   ]
  },
  {
   "cell_type": "code",
   "execution_count": 48,
   "id": "2e17c590",
   "metadata": {},
   "outputs": [],
   "source": [
    "y_train.drop(columns=\"ID\",inplace=True)\n",
    "y_test.drop(columns=\"ID\",inplace=True)"
   ]
  },
  {
   "cell_type": "code",
   "execution_count": 94,
   "id": "19b3cfa9",
   "metadata": {},
   "outputs": [
    {
     "data": {
      "text/plain": [
       "LogisticRegression()"
      ]
     },
     "execution_count": 94,
     "metadata": {},
     "output_type": "execute_result"
    }
   ],
   "source": [
    "log.fit(X_train,y_train)"
   ]
  },
  {
   "cell_type": "code",
   "execution_count": 95,
   "id": "f6af398a",
   "metadata": {},
   "outputs": [
    {
     "name": "stdout",
     "output_type": "stream",
     "text": [
      "Train accuracy 0.7161133930375059\n",
      "Test accuracy 0.7183768740461441\n"
     ]
    }
   ],
   "source": [
    "print(\"Train accuracy\", log.score(X_train,y_train))\n",
    "print(\"Test accuracy\", log.score(X_test,y_test))"
   ]
  },
  {
   "cell_type": "code",
   "execution_count": 96,
   "id": "7a0eafcf",
   "metadata": {},
   "outputs": [
    {
     "name": "stdout",
     "output_type": "stream",
     "text": [
      "              precision    recall  f1-score   support\n",
      "\n",
      "           0       0.75      0.82      0.79     28201\n",
      "           1       0.63      0.53      0.58     16352\n",
      "\n",
      "    accuracy                           0.72     44553\n",
      "   macro avg       0.69      0.68      0.68     44553\n",
      "weighted avg       0.71      0.72      0.71     44553\n",
      "\n",
      "************************************************************\n",
      "              precision    recall  f1-score   support\n",
      "\n",
      "           0       0.76      0.82      0.79      7036\n",
      "           1       0.64      0.55      0.59      4103\n",
      "\n",
      "    accuracy                           0.72     11139\n",
      "   macro avg       0.70      0.68      0.69     11139\n",
      "weighted avg       0.71      0.72      0.71     11139\n",
      "\n"
     ]
    }
   ],
   "source": [
    "print(metrics.classification_report(y_train,log.predict(X_train)))\n",
    "print(\"************************************************************\")\n",
    "print(metrics.classification_report(y_test,log.predict(X_test)))"
   ]
  },
  {
   "cell_type": "markdown",
   "id": "9bb858a5",
   "metadata": {},
   "source": [
    "## DecisionTreeClassifier"
   ]
  },
  {
   "cell_type": "code",
   "execution_count": 97,
   "id": "8c70a04c",
   "metadata": {},
   "outputs": [
    {
     "data": {
      "text/plain": [
       "DecisionTreeClassifier(max_depth=23, min_samples_leaf=2)"
      ]
     },
     "execution_count": 97,
     "metadata": {},
     "output_type": "execute_result"
    }
   ],
   "source": [
    "dt.fit(X_train,y_train)"
   ]
  },
  {
   "cell_type": "code",
   "execution_count": 98,
   "id": "bae7af50",
   "metadata": {},
   "outputs": [
    {
     "name": "stdout",
     "output_type": "stream",
     "text": [
      "Train accuracy 0.9521019908872579\n",
      "Test accuracy 0.9533171738935272\n"
     ]
    }
   ],
   "source": [
    "print(\"Train accuracy\", dt.score(X_train,y_train))\n",
    "print(\"Test accuracy\", dt.score(X_test,y_test))"
   ]
  },
  {
   "cell_type": "code",
   "execution_count": 55,
   "id": "aa4aa9b7",
   "metadata": {},
   "outputs": [
    {
     "name": "stdout",
     "output_type": "stream",
     "text": [
      "max_depth 2 and min-sample 100 \n",
      "Train accuracy 0.7259219356721208\n",
      "Test accuracy 0.7263668192835981\n",
      "********************************************\n",
      "max_depth 2 and min-sample 110 \n",
      "Train accuracy 0.7259219356721208\n",
      "Test accuracy 0.7263668192835981\n",
      "********************************************\n",
      "max_depth 2 and min-sample 120 \n",
      "Train accuracy 0.7259219356721208\n",
      "Test accuracy 0.7263668192835981\n",
      "********************************************\n",
      "max_depth 2 and min-sample 130 \n",
      "Train accuracy 0.7259219356721208\n",
      "Test accuracy 0.7263668192835981\n",
      "********************************************\n",
      "max_depth 2 and min-sample 140 \n",
      "Train accuracy 0.7259219356721208\n",
      "Test accuracy 0.7263668192835981\n",
      "********************************************\n",
      "max_depth 2 and min-sample 150 \n",
      "Train accuracy 0.7259219356721208\n",
      "Test accuracy 0.7263668192835981\n",
      "********************************************\n",
      "max_depth 2 and min-sample 160 \n",
      "Train accuracy 0.7259219356721208\n",
      "Test accuracy 0.7263668192835981\n",
      "********************************************\n",
      "max_depth 4 and min-sample 100 \n",
      "Train accuracy 0.7335084057190313\n",
      "Test accuracy 0.7342669898554628\n",
      "********************************************\n",
      "max_depth 4 and min-sample 110 \n",
      "Train accuracy 0.7335084057190313\n",
      "Test accuracy 0.7342669898554628\n",
      "********************************************\n",
      "max_depth 4 and min-sample 120 \n",
      "Train accuracy 0.7335084057190313\n",
      "Test accuracy 0.7342669898554628\n",
      "********************************************\n",
      "max_depth 4 and min-sample 130 \n",
      "Train accuracy 0.7335084057190313\n",
      "Test accuracy 0.7342669898554628\n",
      "********************************************\n",
      "max_depth 4 and min-sample 140 \n",
      "Train accuracy 0.7335084057190313\n",
      "Test accuracy 0.7342669898554628\n",
      "********************************************\n",
      "max_depth 4 and min-sample 150 \n",
      "Train accuracy 0.7335084057190313\n",
      "Test accuracy 0.7342669898554628\n",
      "********************************************\n",
      "max_depth 4 and min-sample 160 \n",
      "Train accuracy 0.7335084057190313\n",
      "Test accuracy 0.7342669898554628\n",
      "********************************************\n",
      "max_depth 6 and min-sample 100 \n",
      "Train accuracy 0.7460103696720759\n",
      "Test accuracy 0.747643415028279\n",
      "********************************************\n",
      "max_depth 6 and min-sample 110 \n",
      "Train accuracy 0.7460103696720759\n",
      "Test accuracy 0.747643415028279\n",
      "********************************************\n",
      "max_depth 6 and min-sample 120 \n",
      "Train accuracy 0.7460103696720759\n",
      "Test accuracy 0.747643415028279\n",
      "********************************************\n",
      "max_depth 6 and min-sample 130 \n",
      "Train accuracy 0.745898143783808\n",
      "Test accuracy 0.7473740910315109\n",
      "********************************************\n",
      "max_depth 6 and min-sample 140 \n",
      "Train accuracy 0.745898143783808\n",
      "Test accuracy 0.7473740910315109\n",
      "********************************************\n",
      "max_depth 6 and min-sample 150 \n",
      "Train accuracy 0.745898143783808\n",
      "Test accuracy 0.7473740910315109\n",
      "********************************************\n",
      "max_depth 6 and min-sample 160 \n",
      "Train accuracy 0.745898143783808\n",
      "Test accuracy 0.7473740910315109\n",
      "********************************************\n",
      "max_depth 8 and min-sample 100 \n",
      "Train accuracy 0.7560882544385339\n",
      "Test accuracy 0.7570697549151629\n",
      "********************************************\n",
      "max_depth 8 and min-sample 110 \n",
      "Train accuracy 0.7559984737279195\n",
      "Test accuracy 0.7570697549151629\n",
      "********************************************\n",
      "max_depth 8 and min-sample 120 \n",
      "Train accuracy 0.7558413574843444\n",
      "Test accuracy 0.7568902055839842\n",
      "********************************************\n",
      "max_depth 8 and min-sample 130 \n",
      "Train accuracy 0.7555271249971943\n",
      "Test accuracy 0.7567106562528054\n",
      "********************************************\n",
      "max_depth 8 and min-sample 140 \n",
      "Train accuracy 0.7555046798195407\n",
      "Test accuracy 0.7567106562528054\n",
      "********************************************\n",
      "max_depth 8 and min-sample 150 \n",
      "Train accuracy 0.7554597894642336\n",
      "Test accuracy 0.7567106562528054\n",
      "********************************************\n",
      "max_depth 8 and min-sample 160 \n",
      "Train accuracy 0.7553251183983121\n",
      "Test accuracy 0.7564413322560374\n",
      "********************************************\n",
      "max_depth 10 and min-sample 100 \n",
      "Train accuracy 0.7694431351424147\n",
      "Test accuracy 0.7682915881138342\n",
      "********************************************\n",
      "max_depth 10 and min-sample 110 \n",
      "Train accuracy 0.7689493412340359\n",
      "Test accuracy 0.7686506867761917\n",
      "********************************************\n",
      "max_depth 10 and min-sample 120 \n",
      "Train accuracy 0.7681413148385069\n",
      "Test accuracy 0.7673040667923512\n",
      "********************************************\n",
      "max_depth 10 and min-sample 130 \n",
      "Train accuracy 0.767445514331246\n",
      "Test accuracy 0.7665858694676362\n",
      "********************************************\n",
      "max_depth 10 and min-sample 140 \n",
      "Train accuracy 0.7672883980876709\n",
      "Test accuracy 0.7665858694676362\n",
      "********************************************\n",
      "max_depth 10 and min-sample 150 \n",
      "Train accuracy 0.7671312818440958\n",
      "Test accuracy 0.7664063201364575\n",
      "********************************************\n",
      "max_depth 10 and min-sample 160 \n",
      "Train accuracy 0.7664130361591812\n",
      "Test accuracy 0.7665858694676362\n",
      "********************************************\n",
      "max_depth 12 and min-sample 100 \n",
      "Train accuracy 0.7803514914820551\n",
      "Test accuracy 0.778166801328665\n",
      "********************************************\n",
      "max_depth 12 and min-sample 110 \n",
      "Train accuracy 0.7797005813301012\n",
      "Test accuracy 0.7784361253254332\n",
      "********************************************\n",
      "max_depth 12 and min-sample 120 \n",
      "Train accuracy 0.7784436513815007\n",
      "Test accuracy 0.7763713080168776\n",
      "********************************************\n",
      "max_depth 12 and min-sample 130 \n",
      "Train accuracy 0.777298947321168\n",
      "Test accuracy 0.774755364036269\n",
      "********************************************\n",
      "max_depth 12 and min-sample 140 \n",
      "Train accuracy 0.7762440239714498\n",
      "Test accuracy 0.7736780680491965\n",
      "********************************************\n",
      "max_depth 12 and min-sample 150 \n",
      "Train accuracy 0.7759297914842996\n",
      "Test accuracy 0.7732291947212496\n",
      "********************************************\n",
      "max_depth 12 and min-sample 160 \n",
      "Train accuracy 0.7749197584898885\n",
      "Test accuracy 0.7732291947212496\n",
      "********************************************\n",
      "max_depth 14 and min-sample 100 \n",
      "Train accuracy 0.7887684331021481\n",
      "Test accuracy 0.7856180985725828\n",
      "********************************************\n",
      "max_depth 14 and min-sample 110 \n",
      "Train accuracy 0.7874890579758939\n",
      "Test accuracy 0.7863362958972978\n",
      "********************************************\n",
      "max_depth 14 and min-sample 120 \n",
      "Train accuracy 0.785715888941261\n",
      "Test accuracy 0.784451027919921\n",
      "********************************************\n",
      "max_depth 14 and min-sample 130 \n",
      "Train accuracy 0.7838529391960137\n",
      "Test accuracy 0.7805907172995781\n",
      "********************************************\n",
      "max_depth 14 and min-sample 140 \n",
      "Train accuracy 0.7821919960496487\n",
      "Test accuracy 0.7792440973157375\n",
      "********************************************\n",
      "max_depth 14 and min-sample 150 \n",
      "Train accuracy 0.7812044082328912\n",
      "Test accuracy 0.7775383786695395\n",
      "********************************************\n",
      "max_depth 14 and min-sample 160 \n",
      "Train accuracy 0.7799923686395978\n",
      "Test accuracy 0.7776281533351288\n",
      "********************************************\n",
      "max_depth 16 and min-sample 100 \n",
      "Train accuracy 0.7941552757390075\n",
      "Test accuracy 0.7876829158811384\n",
      "********************************************\n",
      "max_depth 16 and min-sample 110 \n",
      "Train accuracy 0.7917760869077278\n",
      "Test accuracy 0.7880420145434959\n",
      "********************************************\n",
      "max_depth 16 and min-sample 120 \n",
      "Train accuracy 0.7893295625434875\n",
      "Test accuracy 0.7862465212317085\n",
      "********************************************\n",
      "max_depth 16 and min-sample 130 \n",
      "Train accuracy 0.7873319417323188\n",
      "Test accuracy 0.7831941826016698\n",
      "********************************************\n",
      "max_depth 16 and min-sample 140 \n",
      "Train accuracy 0.7855363275200323\n",
      "Test accuracy 0.7815782386210611\n",
      "********************************************\n",
      "max_depth 16 and min-sample 150 \n",
      "Train accuracy 0.7843916234596997\n",
      "Test accuracy 0.7793338719813269\n",
      "********************************************\n",
      "max_depth 16 and min-sample 160 \n",
      "Train accuracy 0.7832693645770207\n",
      "Test accuracy 0.7796929706436844\n",
      "********************************************\n",
      "max_depth 18 and min-sample 100 \n",
      "Train accuracy 0.7967364711691693\n",
      "Test accuracy 0.7898375078552833\n",
      "********************************************\n"
     ]
    },
    {
     "name": "stdout",
     "output_type": "stream",
     "text": [
      "max_depth 18 and min-sample 110 \n",
      "Train accuracy 0.7934370300540928\n",
      "Test accuracy 0.7887602118682108\n",
      "********************************************\n",
      "max_depth 18 and min-sample 120 \n",
      "Train accuracy 0.7909905056898525\n",
      "Test accuracy 0.7877726905467277\n",
      "********************************************\n",
      "max_depth 18 and min-sample 130 \n",
      "Train accuracy 0.7888582138127623\n",
      "Test accuracy 0.7838226052607954\n",
      "********************************************\n",
      "max_depth 18 and min-sample 140 \n",
      "Train accuracy 0.7870177092451687\n",
      "Test accuracy 0.7822964359457761\n",
      "********************************************\n",
      "max_depth 18 and min-sample 150 \n",
      "Train accuracy 0.7859403407177967\n",
      "Test accuracy 0.7805009426339887\n",
      "********************************************\n",
      "max_depth 18 and min-sample 160 \n",
      "Train accuracy 0.7843242879267389\n",
      "Test accuracy 0.7802316186372206\n",
      "********************************************\n",
      "max_depth 20 and min-sample 100 \n",
      "Train accuracy 0.7974547168540839\n",
      "Test accuracy 0.7902863811832301\n",
      "********************************************\n",
      "max_depth 20 and min-sample 110 \n",
      "Train accuracy 0.7942226112719682\n",
      "Test accuracy 0.7895681838585151\n",
      "********************************************\n",
      "max_depth 20 and min-sample 120 \n",
      "Train accuracy 0.7917087513747672\n",
      "Test accuracy 0.7881317892090852\n",
      "********************************************\n",
      "max_depth 20 and min-sample 130 \n",
      "Train accuracy 0.789576459497677\n",
      "Test accuracy 0.7841817039231529\n",
      "********************************************\n",
      "max_depth 20 and min-sample 140 \n",
      "Train accuracy 0.7876237290418153\n",
      "Test accuracy 0.7824759852769548\n",
      "********************************************\n",
      "max_depth 20 and min-sample 150 \n",
      "Train accuracy 0.7865463605144435\n",
      "Test accuracy 0.7806804919651674\n",
      "********************************************\n",
      "max_depth 20 and min-sample 160 \n",
      "Train accuracy 0.7849303077233857\n",
      "Test accuracy 0.7804111679683993\n",
      "********************************************\n"
     ]
    }
   ],
   "source": [
    "max_dep = [2,4,6,8,10,12,14,16,18,20]\n",
    "min_Sa = [100,110,120,130,140,150,160]\n",
    "for i in max_dep:\n",
    "    for j in min_Sa:\n",
    "        dt = DecisionTreeClassifier(criterion=\"gini\",\n",
    "                                   max_depth= i,\n",
    "                                   min_samples_leaf=6,\n",
    "                                   min_samples_split=j,\n",
    "                                   random_state=88)\n",
    "        dt.fit(X_train,y_train)\n",
    "        print(\"max_depth {} and min-sample {} \".format(i,j))\n",
    "        print(\"Train accuracy\", dt.score(X_train,y_train))\n",
    "        print(\"Test accuracy\", dt.score(X_test,y_test))\n",
    "        print(\"********************************************\")"
   ]
  },
  {
   "cell_type": "code",
   "execution_count": 99,
   "id": "66ad9a54",
   "metadata": {},
   "outputs": [
    {
     "name": "stdout",
     "output_type": "stream",
     "text": [
      "Train accuracy 0.9527753462168653\n",
      "Test accuracy 0.953496723224706\n"
     ]
    }
   ],
   "source": [
    "dt = DecisionTreeClassifier(max_depth=23,min_samples_leaf=2)\n",
    "dt.fit(X_train,y_train)\n",
    "print(\"Train accuracy\", dt.score(X_train,y_train))\n",
    "print(\"Test accuracy\", dt.score(X_test,y_test))"
   ]
  },
  {
   "cell_type": "code",
   "execution_count": 100,
   "id": "53cbbd6c",
   "metadata": {},
   "outputs": [
    {
     "name": "stdout",
     "output_type": "stream",
     "text": [
      "              precision    recall  f1-score   support\n",
      "\n",
      "           0       0.94      0.98      0.96     28201\n",
      "           1       0.97      0.90      0.93     16352\n",
      "\n",
      "    accuracy                           0.95     44553\n",
      "   macro avg       0.96      0.94      0.95     44553\n",
      "weighted avg       0.95      0.95      0.95     44553\n",
      "\n",
      "**********************************************************\n",
      "              precision    recall  f1-score   support\n",
      "\n",
      "           0       0.95      0.98      0.96      7036\n",
      "           1       0.97      0.90      0.93      4103\n",
      "\n",
      "    accuracy                           0.95     11139\n",
      "   macro avg       0.96      0.94      0.95     11139\n",
      "weighted avg       0.95      0.95      0.95     11139\n",
      "\n"
     ]
    }
   ],
   "source": [
    "print(metrics.classification_report(y_train,dt.predict(X_train)))\n",
    "print(\"**********************************************************\")\n",
    "print(metrics.classification_report(y_test,dt.predict(X_test)))\n"
   ]
  },
  {
   "cell_type": "markdown",
   "id": "4bbb4f37",
   "metadata": {},
   "source": [
    "# RandomForestClassifier"
   ]
  },
  {
   "cell_type": "code",
   "execution_count": 101,
   "id": "e546c5b5",
   "metadata": {},
   "outputs": [
    {
     "data": {
      "text/plain": [
       "RandomForestClassifier()"
      ]
     },
     "execution_count": 101,
     "metadata": {},
     "output_type": "execute_result"
    }
   ],
   "source": [
    "rf.fit(X_train,y_train)"
   ]
  },
  {
   "cell_type": "code",
   "execution_count": 102,
   "id": "f7cb8bc6",
   "metadata": {},
   "outputs": [
    {
     "name": "stdout",
     "output_type": "stream",
     "text": [
      "Train Accuracy 1.0\n",
      "Train Accuracy 1.0\n"
     ]
    }
   ],
   "source": [
    "print(\"Train Accuracy\",rf.score(X_train,y_train))\n",
    "print(\"Train Accuracy\",rf.score(X_test,y_test))"
   ]
  },
  {
   "cell_type": "markdown",
   "id": "9bcc3d1d",
   "metadata": {},
   "source": [
    "# KNN"
   ]
  },
  {
   "cell_type": "code",
   "execution_count": 103,
   "id": "501e1d06",
   "metadata": {},
   "outputs": [],
   "source": [
    "from sklearn.neighbors import KNeighborsClassifier"
   ]
  },
  {
   "cell_type": "code",
   "execution_count": 104,
   "id": "a383b155",
   "metadata": {},
   "outputs": [],
   "source": [
    "knn = KNeighborsClassifier()"
   ]
  },
  {
   "cell_type": "code",
   "execution_count": 105,
   "id": "26b947e6",
   "metadata": {},
   "outputs": [
    {
     "data": {
      "text/plain": [
       "KNeighborsClassifier()"
      ]
     },
     "execution_count": 105,
     "metadata": {},
     "output_type": "execute_result"
    }
   ],
   "source": [
    "knn.fit(X_train,y_train)"
   ]
  },
  {
   "cell_type": "code",
   "execution_count": 89,
   "id": "571be393",
   "metadata": {},
   "outputs": [],
   "source": [
    "# knn.fit(X_train1,y_train)"
   ]
  },
  {
   "cell_type": "code",
   "execution_count": 106,
   "id": "3cc5acdc",
   "metadata": {},
   "outputs": [
    {
     "name": "stdout",
     "output_type": "stream",
     "text": [
      "Train Accuracy 0.7921127645725315\n",
      "Train Accuracy 0.7919920998294281\n"
     ]
    }
   ],
   "source": [
    "print(\"Train Accuracy\",knn.score(X_train,y_train))\n",
    "print(\"Train Accuracy\",knn.score(X_test,y_test))"
   ]
  },
  {
   "cell_type": "code",
   "execution_count": 48,
   "id": "2335ffdb",
   "metadata": {},
   "outputs": [
    {
     "name": "stdout",
     "output_type": "stream",
     "text": [
      "KNeighborsClassifier 3\n",
      "Train Accuracy 0.8294660643640751\n",
      "Train Accuracy 0.6781506003815508\n",
      "*********************************************\n",
      "KNeighborsClassifier 5\n",
      "Train Accuracy 0.7942818663898319\n",
      "Train Accuracy 0.6881382560879812\n",
      "*********************************************\n",
      "KNeighborsClassifier 7\n",
      "Train Accuracy 0.7793271793720715\n",
      "Train Accuracy 0.6916171024576366\n",
      "*********************************************\n",
      "KNeighborsClassifier 9\n",
      "Train Accuracy 0.7686933587722006\n",
      "Train Accuracy 0.6933004152171474\n",
      "*********************************************\n",
      "KNeighborsClassifier 11\n",
      "Train Accuracy 0.7611178137538228\n",
      "Train Accuracy 0.699584782852654\n",
      "*********************************************\n",
      "KNeighborsClassifier 13\n",
      "Train Accuracy 0.7567408321876491\n",
      "Train Accuracy 0.6991358994501178\n",
      "*********************************************\n",
      "KNeighborsClassifier 15\n",
      "Train Accuracy 0.7520271597317696\n",
      "Train Accuracy 0.699697003703288\n",
      "*********************************************\n",
      "KNeighborsClassifier 17\n",
      "Train Accuracy 0.7503998204315255\n",
      "Train Accuracy 0.7004825496577264\n",
      "*********************************************\n",
      "KNeighborsClassifier 19\n",
      "Train Accuracy 0.7477624084621644\n",
      "Train Accuracy 0.7044102794299181\n",
      "*********************************************\n"
     ]
    }
   ],
   "source": [
    "k = []\n",
    "train = []\n",
    "test = []\n",
    "for i in range(3,20,2):\n",
    "    knn = KNeighborsClassifier(n_neighbors=i)\n",
    "    knn.fit(X_train,y_train)\n",
    "    print(\"KNeighborsClassifier\" ,i)\n",
    "    k.append(i)\n",
    "    print(\"Train Accuracy\",knn.score(X_train,y_train))\n",
    "    train.append(round(knn.score(X_train,y_train),2))\n",
    "    print(\"Train Accuracy\",knn.score(X_test,y_test))\n",
    "    test.append(round(knn.score(X_test,y_test),2))\n",
    "    print(\"*********************************************\")"
   ]
  },
  {
   "cell_type": "code",
   "execution_count": 57,
   "id": "698bcc9c",
   "metadata": {},
   "outputs": [
    {
     "data": {
      "image/png": "[encoded data removed]",
      "text/plain": [
       "<Figure size 720x288 with 1 Axes>"
      ]
     },
     "metadata": {
      "needs_background": "light"
     },
     "output_type": "display_data"
    }
   ],
   "source": [
    "plt.figure(figsize=(10,4))\n",
    "plt.plot(k,train,label = \"Train\")\n",
    "plt.plot(k,train,\"go\")\n",
    "\n",
    "plt.plot(k,test,label = \"Test\")\n",
    "plt.plot(k,test,\"bo\")\n",
    "\n",
    "for x,y in zip(k,train):\n",
    "    plt.text(x,y,y)\n",
    "    \n",
    "for x,y in zip(k,test):\n",
    "    plt.text(x,y,y)\n",
    "\n",
    "plt.legend()\n",
    "plt.show()"
   ]
  },
  {
   "cell_type": "markdown",
   "id": "a43da9be",
   "metadata": {},
   "source": [
    "# Model Selection Results 💯👨‍🎓\n",
    "- Decision Tree Classifier = 95 %\n",
    "- Random Forest Classifier = 100 %\n",
    "\n"
   ]
  },
  {
   "cell_type": "code",
   "execution_count": null,
   "id": "fe49dc71",
   "metadata": {},
   "outputs": [],
   "source": []
  },
  {
   "cell_type": "code",
   "execution_count": null,
   "id": "cab3d10d",
   "metadata": {},
   "outputs": [],
   "source": []
  },
  {
   "cell_type": "code",
   "execution_count": null,
   "id": "b58cab15",
   "metadata": {},
   "outputs": [],
   "source": []
  }
 ],
 "metadata": {
  "kernelspec": {
   "display_name": "Python 3 (ipykernel)",
   "language": "python",
   "name": "python3"
  },
  "language_info": {
   "codemirror_mode": {
    "name": "ipython",
    "version": 3
   },
   "file_extension": ".py",
   "mimetype": "text/x-python",
   "name": "python",
   "nbconvert_exporter": "python",
   "pygments_lexer": "ipython3",
   "version": "3.9.12"
  }
 },
 "nbformat": 4,
 "nbformat_minor": 5
}
